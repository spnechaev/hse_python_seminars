{
 "cells": [
  {
   "cell_type": "markdown",
   "id": "5903cf30",
   "metadata": {},
   "source": [
    "#### Декораторы\n",
    "\n",
    "В python функции - `first class citizens`. Это значит, что они могут быть переменными, аргументами и возвращаемыми значениями других функций.\n",
    "\n"
   ]
  },
  {
   "cell_type": "code",
   "execution_count": 5,
   "id": "4c8304d3",
   "metadata": {},
   "outputs": [
    {
     "name": "stdout",
     "output_type": "stream",
     "text": [
      "Hello, world\n"
     ]
    }
   ],
   "source": [
    "def my_function():\n",
    "    print(\"Hello, world\")\n",
    "\n",
    "other_function = my_function\n",
    "\n",
    "other_function()"
   ]
  },
  {
   "cell_type": "code",
   "execution_count": 19,
   "id": "e8beb374",
   "metadata": {},
   "outputs": [
    {
     "name": "stdout",
     "output_type": "stream",
     "text": [
      "The nb_mypy extension is already loaded. To reload it, use:\n",
      "  %reload_ext nb_mypy\n",
      "3\n",
      "Gotcha\n",
      "5\n",
      "Gotcha\n",
      "7\n"
     ]
    }
   ],
   "source": [
    "%load_ext nb_mypy\n",
    "\n",
    "from typing import Any, Callable\n",
    "def function_creator(func: Callable[..., Any]) -> Callable[..., Any]:\n",
    "    \"\"\"\n",
    "    Принимаем на вход функцию, а возвращаем другую функцию, которую сами только что сделали\n",
    "    Может иметь отношение к исходной, а может и нет (порицается, но не исключено)\n",
    "    \"\"\"\n",
    "    def function_wrapper(*args, **kwargs):\n",
    "        print(\"Gotcha\")\n",
    "        return func(*args, **kwargs)\n",
    "    \n",
    "    return function_wrapper    \n",
    "\n",
    "def f(x: int, y: int) -> int:\n",
    "    return x + y\n",
    "\n",
    "print(f(1, 2))\n",
    "\n",
    "g = function_creator(f)\n",
    "\n",
    "print(g(2, 3))\n",
    "f = g\n",
    "print(f(3, 4))"
   ]
  },
  {
   "cell_type": "markdown",
   "id": "c82c4162",
   "metadata": {},
   "source": [
    "То же самое можно записать короче: выражение вида\n",
    "```python\n",
    "f = function_creator(f)\n",
    "```\n",
    "Удобно записывается так\n"
   ]
  },
  {
   "cell_type": "code",
   "execution_count": 12,
   "id": "5e2dbd24",
   "metadata": {},
   "outputs": [
    {
     "name": "stdout",
     "output_type": "stream",
     "text": [
      "Gotcha\n",
      "3\n"
     ]
    }
   ],
   "source": [
    "def function_creator(func: Callable[..., Any]) -> Callable[..., Any]:\n",
    "    def function_wrapper(*args, **kwargs):\n",
    "        print(\"Gotcha\")\n",
    "        return func(*args, **kwargs)\n",
    "    \n",
    "    return function_wrapper\n",
    "\n",
    "@function_creator\n",
    "def my_function(a, b):\n",
    "    return a + b\n",
    "\n",
    "print(my_function(1, 2))  "
   ]
  },
  {
   "cell_type": "markdown",
   "id": "a9999fd3",
   "metadata": {},
   "source": [
    "И вот функция (строго говоря, может быть и класс, в общем случае `Callable`), которая модифицирует переданную в нее функцию, называется **декоратор**\n",
    "\n",
    "Зачем это нужно:\n",
    "Привнести какую-то логику, паралельную бизнес-логике декорируемого `Callable`\n",
    "  * Логирование переданных параметров и результата\n",
    "  * Авторизация/Проверка нужных разрешений\n",
    "  * Повторное выполнение каких-то запросов в случае возникновения временных ошибок, когда безопасно пробовать еще раз\n",
    "  * Кэширование ранее сделанных вычислений (мемоизация)\n",
    "  * Связь `Callable` и когда их нужно вызывать: веб фреймворки и всякие библиотеки для ботов\n",
    "  * Конструкции самого `python`: `@classmethod`, `@staticmethod`, `@property`, и другие"
   ]
  },
  {
   "cell_type": "code",
   "execution_count": 21,
   "id": "80a16b77",
   "metadata": {},
   "outputs": [
    {
     "name": "stdout",
     "output_type": "stream",
     "text": [
      "Before\n",
      "10\n",
      "After\n"
     ]
    }
   ],
   "source": [
    "# Правила хорошего тона\n",
    "from typing import Any, Callable\n",
    "import functools\n",
    "def my_decorator(func: Callable[[Any], Any]):\n",
    "    # внутреннюю функцию называем `wrapper`\n",
    "    # сигнатура у нее в общем случае `def wrapper(*args, **kwargs)`, потому что неизвестно, какая будет сигнатура у\n",
    "    # декорируемой функции. \n",
    "    \n",
    "    # @functools.wraps(func) нужно для того, чтобы не потерять информацию о декорируемой функции:\n",
    "    # имя, документация, модуль и другие\n",
    "    @functools.wraps(func)\n",
    "    # крайне порицается добавление новых аргументов, которых не было в исходной.\n",
    "    # extra_arg добавлять не надо!\n",
    "    # Почему? потому что если вдруг появляется функция с тем же именем,\n",
    "    #  то ожидается, что и вести себя она будет так же, как исходная\n",
    "    def wrapper(*args, extra_arg=None, **kwargs) -> Any:\n",
    "        print(\"Before\")\n",
    "        # здесь гипотетически мы можем вызвать декорируемую функцию не с переданными аргументами,\n",
    "        # а с произвольными. Делать этого чаще всего не нужно и даже вредно\n",
    "        func(*args, **kwargs)\n",
    "        print(\"After\")\n",
    "    return wrapper\n",
    "\n",
    "@my_decorator\n",
    "def f(x):\n",
    "    print(x)\n",
    "\n",
    "f(10)"
   ]
  },
  {
   "cell_type": "markdown",
   "id": "0448fb9c",
   "metadata": {},
   "source": [
    "В примере выше декоратор менял исходную функцию всегда одинаково и независимо ни от чего. Но что, если есть необходимость управлять этим поведением? "
   ]
  },
  {
   "cell_type": "code",
   "execution_count": null,
   "id": "960834f4",
   "metadata": {},
   "outputs": [
    {
     "ename": "TypeError",
     "evalue": "retry_decorator.<locals>.decorator() takes 1 positional argument but 2 were given",
     "output_type": "error",
     "traceback": [
      "\u001b[31m---------------------------------------------------------------------------\u001b[39m",
      "\u001b[31mTypeError\u001b[39m                                 Traceback (most recent call last)",
      "\u001b[36mCell\u001b[39m\u001b[36m \u001b[39m\u001b[32mIn[16]\u001b[39m\u001b[32m, line 29\u001b[39m\n\u001b[32m     25\u001b[39m \u001b[38;5;129m@retry_decorator\u001b[39m \u001b[38;5;66;03m# так работать уже не будет\u001b[39;00m\n\u001b[32m     26\u001b[39m \u001b[38;5;28;01mdef\u001b[39;00m\u001b[38;5;250m \u001b[39m\u001b[34mmy_function_with_args\u001b[39m(arg1, arg2):\n\u001b[32m     27\u001b[39m     \u001b[38;5;28mprint\u001b[39m(\u001b[33mf\u001b[39m\u001b[33m\"\u001b[39m\u001b[33mHello, \u001b[39m\u001b[38;5;132;01m{\u001b[39;00marg1\u001b[38;5;132;01m}\u001b[39;00m\u001b[33m and \u001b[39m\u001b[38;5;132;01m{\u001b[39;00marg2\u001b[38;5;132;01m}\u001b[39;00m\u001b[33m\"\u001b[39m)\n\u001b[32m---> \u001b[39m\u001b[32m29\u001b[39m \u001b[43mmy_function_with_args\u001b[49m\u001b[43m(\u001b[49m\u001b[33;43m\"\u001b[39;49m\u001b[33;43mJohn\u001b[39;49m\u001b[33;43m\"\u001b[39;49m\u001b[43m,\u001b[49m\u001b[43m \u001b[49m\u001b[33;43m\"\u001b[39;49m\u001b[33;43mDoe\u001b[39;49m\u001b[33;43m\"\u001b[39;49m\u001b[43m)\u001b[49m\n",
      "\u001b[31mTypeError\u001b[39m: retry_decorator.<locals>.decorator() takes 1 positional argument but 2 were given"
     ]
    }
   ],
   "source": [
    "\n",
    "import functools\n",
    "\n",
    "# здесь аргументы `retry_decorator` - параметры самого декоратора \n",
    "def retry_decorator(attempts: int):\n",
    "    def decorator(func):\n",
    "        # помним про волшебную функцию `wraps`\n",
    "        @functools.wraps(func)\n",
    "        def wrapper(*args, **kwargs):\n",
    "            # здесь есть доступ и к аргументам `retry_decorator`, и к аргументам `decorator` \n",
    "            # и к аргументам `func`\n",
    "            for _ in range(attempts):\n",
    "                try:\n",
    "                    return func(*args, **kwargs)\n",
    "                except Exception as e:\n",
    "                    print(f\"Exception occurred: {e}\")\n",
    "            raise Exception(\"Maximum attempts reached\")\n",
    "        return wrapper\n",
    "    # именно эту функцию вернем, а она, будучи вызванной с нужными аргументами, \n",
    "    # вернет подготовленный декоратор, который уже модифицирует исходную функцию\n",
    "    return decorator\n",
    "    \n",
    "@retry_decorator(3)\n",
    "def my_function():\n",
    "    print(\"Hello, world\")\n",
    "\n",
    "@retry_decorator # так работать уже не будет\n",
    "def my_function_with_args(arg1, arg2):\n",
    "    print(f\"Hello, {arg1} and {arg2}\")\n",
    "\n",
    "# здесь my_function_with_args превратилась в функцию, которая ждет на вход функцию, \n",
    "# чтобы далее ее задекорировать, а получает на вход содержательные аргументы\n",
    "my_function_with_args(\"John\", \"Doe\")"
   ]
  },
  {
   "cell_type": "markdown",
   "id": "c3294f0e",
   "metadata": {},
   "source": [
    "##### Задание 1 - Логирующий декоратор\n",
    "Необходимо написать декоратор, который логирует (выводит на экран) название функции, переданные в нее аргументы (args и kwargs) и возвращаемое значение. Вывод должен состояться в любом случае, даже если декорируемая функция выбрасывает исключение. (вам *возможно* понадобится блок `finally` из try/except)\n",
    "\n",
    "##### Задание 2 - Параметризованный volkswagen-test декоратор\n",
    "```python\n",
    "def test_decorator(test_mode: bool = False):\n",
    "    # если test_mode is True - игнорировать любые исключения, которые могут быть выброшены внутри декорируемой функции\n",
    "    # если test_mode is False - полностью сохранить поведение исходной функции\n",
    "    pass    \n",
    "\n",
    "```"
   ]
  }
 ],
 "metadata": {
  "kernelspec": {
   "display_name": ".venv",
   "language": "python",
   "name": "python3"
  },
  "language_info": {
   "codemirror_mode": {
    "name": "ipython",
    "version": 3
   },
   "file_extension": ".py",
   "mimetype": "text/x-python",
   "name": "python",
   "nbconvert_exporter": "python",
   "pygments_lexer": "ipython3",
   "version": "3.13.5"
  }
 },
 "nbformat": 4,
 "nbformat_minor": 5
}
