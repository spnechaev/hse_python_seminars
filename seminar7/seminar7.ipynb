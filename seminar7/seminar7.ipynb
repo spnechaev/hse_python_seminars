{
 "cells": [
  {
   "cell_type": "markdown",
   "id": "af170e59",
   "metadata": {},
   "source": [
    "#### Протоколы, duck typing, гусиная типизация и прочая\n",
    "\n",
    "**Динамическая типизация**\n",
    "В языках со статической типизацией тип переменной определяется во время объявления и гарантировать, что она окажется заявленного типа - можно: если существует хоть один вариант того, что тип окажется не такой, как заявлен - будет или ошибка компиляции, исполняемый файл просто не создастся и запускать будет нечего, или программа просто не запустится. \n",
    "\n",
    "В python динамическая типизация: тип переменной определяется во время выполнения программы и заранее гарантировать, что она окажется нужного типа - нельзя. Может так случиться, что тип окажется не такой, как заявлен - будет либо ошибка выполнения, либо молча и неявно сделается не то, что ожидалось, потому что тип - другой. Нужны какие-то гарантии, что всегда переменные будут нужного ожидаемого типа. \n",
    "\n",
    "```python\n",
    "class Rectangle:\n",
    "    def __init__(self, width: int, height: int):\n",
    "        self._width = width\n",
    "        self._height = height\n",
    "\n",
    "    def get_area(self):\n",
    "        return self._width * self._height\n",
    "\n",
    "if __name__ == \"__main__\":\n",
    "    r = Rectangle(10, \"tuesday\")\n",
    "    print(r.get_area())\n",
    "```\n",
    "\n",
    "Ну умножили вторник на ширину, что-то даже получилось, кто и что будет дальше делать с этим результатом и что получится - как повезет.\n",
    "\n",
    "Как обеспечить эти гарантии\n",
    "\n",
    "`isinstance` в функциях, методах класса и везде проверяет является ли тип переменной тем, что ожидается, с учетом наследования. Приведет к тому, что объем кода вырастет в два раза и будет читать крайне тяжело. Кроме того, это приводит к увеличению времени работы программы.\n"
   ]
  },
  {
   "cell_type": "code",
   "execution_count": 3,
   "id": "751da1dc",
   "metadata": {},
   "outputs": [
    {
     "name": "stderr",
     "output_type": "stream",
     "text": [
      "<cell>23: \u001b[34mnote:\u001b[m By default the bodies of untyped functions are not checked, consider using --check-untyped-defs  [annotation-unchecked]\u001b[m\n",
      "<cell>39: \u001b[1m\u001b[31merror:\u001b[m Argument 1 to \u001b[m\u001b[1m\"add_flyable\"\u001b[m of \u001b[m\u001b[1m\"FlyableManager\"\u001b[m has incompatible type \u001b[m\u001b[1m\"Hippie\"\u001b[m; expected \u001b[m\u001b[1m\"Flyable\"\u001b[m  \u001b[m\u001b[33m[arg-type]\u001b[m\n"
     ]
    },
    {
     "name": "stdout",
     "output_type": "stream",
     "text": [
      "I'm flying\n",
      "I'm flying high\n"
     ]
    }
   ],
   "source": [
    "import abc\n",
    "\n",
    "class Flyable(abc.ABC):\n",
    "    @abc.abstractmethod\n",
    "    def fly(self):\n",
    "        pass\n",
    "\n",
    "class Junkie(abc.ABC):\n",
    "    @abc.abstractmethod\n",
    "    def fly(self):\n",
    "        pass\n",
    "\n",
    "class Bird(Flyable):\n",
    "    def fly(self):\n",
    "        print(\"I'm flying\")\n",
    "\n",
    "class Hippie(Junkie):\n",
    "    def fly(self):\n",
    "        print(\"I'm flying high\")\n",
    "\n",
    "class FlyableManager:\n",
    "    def __init__(self):\n",
    "        self.flyables: list[Flyable] = [] # список объектов, которые могут летать\n",
    "\n",
    "    def add_flyable(self, flyable: Flyable):\n",
    "        # if not isinstance(flyable, Flyable):\n",
    "        #     # здесь мы проверяем, что переданный объект является Flyable\n",
    "        #     raise TypeError(\"FlyableManager can only add Flyable objects\")\n",
    "        self.flyables.append(flyable)\n",
    "    \n",
    "    def fly(self):\n",
    "        for flyable in self.flyables:\n",
    "            flyable.fly()\n",
    "\n",
    "manager = FlyableManager()\n",
    "manager.add_flyable(Bird())\n",
    "# manager.add_flyable(\"tuesday\")\n",
    "# несмотря на то, что Hippie точно так же летает, мы не можем добавить его в менеджер\n",
    "manager.add_flyable(Hippie())\n",
    "manager.fly()"
   ]
  },
  {
   "cell_type": "markdown",
   "id": "1811fdaf",
   "metadata": {},
   "source": [
    "##### Протоколы и duck typing\n",
    "Декларируем набор методов - протокол. Наследоваться не надо ни от чего: объекты тех классов, у которых объявлены нужные методы соответствуют протоколу. Если что-то ходит, как утка, и квакает, как утка, - значит, может быть использовано в качестве утки по части ходьбы и кваканья."
   ]
  },
  {
   "cell_type": "code",
   "execution_count": 6,
   "id": "27d81f46",
   "metadata": {},
   "outputs": [
    {
     "name": "stderr",
     "output_type": "stream",
     "text": [
      "<cell>46: \u001b[1m\u001b[31merror:\u001b[m Argument 1 to \u001b[m\u001b[1m\"add_flyable\"\u001b[m of \u001b[m\u001b[1m\"FlyableManager\"\u001b[m has incompatible type \u001b[m\u001b[1m\"int\"\u001b[m; expected \u001b[m\u001b[1m\"Flyable\"\u001b[m  \u001b[m\u001b[33m[arg-type]\u001b[m\n"
     ]
    },
    {
     "name": "stdout",
     "output_type": "stream",
     "text": [
      "The nb_mypy extension is already loaded. To reload it, use:\n",
      "  %reload_ext nb_mypy\n",
      "I'm flying\n",
      "I'm flying high\n"
     ]
    }
   ],
   "source": [
    "%load_ext nb_mypy\n",
    "import random\n",
    "from typing import  Protocol\n",
    "\n",
    "class Flyable(Protocol):\n",
    "    def fly(self):\n",
    "        pass\n",
    "\n",
    "class Bird():\n",
    "    def fly(self):\n",
    "        print(\"I'm flying\")\n",
    "\n",
    "class Hippie():\n",
    "    def fly(self):\n",
    "        print(\"I'm flying high\")\n",
    "\n",
    "class ParametrizedFlyer():\n",
    "    def fly(self, speed: int):\n",
    "        print(f\"I'm flying at {speed} knots\")\n",
    "\n",
    "class FlyableManager:\n",
    "    def __init__(self):\n",
    "        self.flyables = []\n",
    "\n",
    "    def add_flyable(self, flyable: Flyable):\n",
    "        # Из коробки не заработает, потому что протоколы для isinstance нужно дополнительно размечать\n",
    "        # if not isinstance(flyable, Flyable):\n",
    "        #     # здесь мы проверяем, что переданный объект является Flyable\n",
    "        #     raise TypeError(\"FlyableManager can only add Flyable objects\")\n",
    "        self.flyables.append(flyable)\n",
    "    \n",
    "    def fly(self):\n",
    "        for flyable in self.flyables:\n",
    "            flyable.fly()\n",
    "\n",
    "manager = FlyableManager()\n",
    "manager.add_flyable(Bird())\n",
    "# несмотря на то, что Hippie никак не связан явно с протоколом Flyable - пожалуйста\n",
    "manager.add_flyable(Hippie())\n",
    "\n",
    "manager.fly()\n",
    "# а вот это уже не работает\n",
    "# manager.add_flyable(ParametrizedFlyer())\n",
    "# это тоже не работает\n",
    "if random.random() > 0.999:\n",
    "    manager.add_flyable(1)\n"
   ]
  },
  {
   "cell_type": "markdown",
   "id": "18d76d66",
   "metadata": {},
   "source": [
    "#### Задачи - правильные скобочные последовательности (2 октября)\n",
    "\n",
    "Строка, состоящая из символов `(` и `)`, называется правильной скобочной последовательностью, если:\n",
    "\n",
    "1. пустая строка является правильной скобочной последовательностью;\n",
    "2. если `A` и `B` являются правильными скобочными последовательностями, то `AB` также является правильной скобочной последовательностью.\n",
    "3. если `B` является правильной скобочной последовательностью, то `(B)` также является правильной скобочной последовательностью.\n",
    "\n",
    "За O(N) по времени и O(1) по памяти определить, является ли некоторая строка правильной скобочной последовательностью.\n",
    "\n",
    "Обобщение (2 балла): пусть у нас есть несколько видов скобок. Для валидности считаем, что закрываться должна последняя открытая скобка.\n",
    "То есть `[]()` - валидная скобочная последовательность, а `[(])` - нет.\n",
    "\n",
    "За O(N) по времени и O(N) по памяти определить, является ли некоторая строка правильной скобочной последовательностью c несколькими типами скобок  "
   ]
  }
 ],
 "metadata": {
  "kernelspec": {
   "display_name": ".venv",
   "language": "python",
   "name": "python3"
  },
  "language_info": {
   "codemirror_mode": {
    "name": "ipython",
    "version": 3
   },
   "file_extension": ".py",
   "mimetype": "text/x-python",
   "name": "python",
   "nbconvert_exporter": "python",
   "pygments_lexer": "ipython3",
   "version": "3.13.5"
  }
 },
 "nbformat": 4,
 "nbformat_minor": 5
}
